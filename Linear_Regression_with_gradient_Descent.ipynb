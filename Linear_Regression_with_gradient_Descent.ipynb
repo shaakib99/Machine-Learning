{
  "nbformat": 4,
  "nbformat_minor": 0,
  "metadata": {
    "colab": {
      "name": "Linear Regression with gradient Descent.ipynb",
      "provenance": [],
      "authorship_tag": "ABX9TyMm8M9tRMwkYhrwbUZbwef8",
      "include_colab_link": true
    },
    "kernelspec": {
      "name": "python3",
      "display_name": "Python 3"
    }
  },
  "cells": [
    {
      "cell_type": "markdown",
      "metadata": {
        "id": "view-in-github",
        "colab_type": "text"
      },
      "source": [
        "<a href=\"https://colab.research.google.com/github/shaakib99/Machine-Learning/blob/gcolab/Linear_Regression_with_gradient_Descent.ipynb\" target=\"_parent\"><img src=\"https://colab.research.google.com/assets/colab-badge.svg\" alt=\"Open In Colab\"/></a>"
      ]
    },
    {
      "cell_type": "markdown",
      "metadata": {
        "id": "pdH-RjnM7-rY",
        "colab_type": "text"
      },
      "source": [
        "***Import Necessary Libraries***"
      ]
    },
    {
      "cell_type": "code",
      "metadata": {
        "id": "Y-zdkHaC7FEh",
        "colab_type": "code",
        "colab": {}
      },
      "source": [
        "import pandas as pd\n",
        "import matplotlib.pyplot as plt"
      ],
      "execution_count": null,
      "outputs": []
    },
    {
      "cell_type": "markdown",
      "metadata": {
        "id": "q0UCl06O8I3n",
        "colab_type": "text"
      },
      "source": [
        "***Load Dataset***"
      ]
    },
    {
      "cell_type": "code",
      "metadata": {
        "id": "89BU99Lb7kJI",
        "colab_type": "code",
        "colab": {}
      },
      "source": [
        "data = []"
      ],
      "execution_count": null,
      "outputs": []
    }
  ]
}