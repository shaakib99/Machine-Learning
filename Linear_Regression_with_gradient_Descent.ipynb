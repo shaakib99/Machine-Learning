{
  "nbformat": 4,
  "nbformat_minor": 0,
  "metadata": {
    "colab": {
      "name": "Linear Regression with gradient Descent.ipynb",
      "provenance": [],
      "authorship_tag": "ABX9TyOgDW7gWrpeDTd47cbc/iA5",
      "include_colab_link": true
    },
    "kernelspec": {
      "name": "python3",
      "display_name": "Python 3"
    }
  },
  "cells": [
    {
      "cell_type": "markdown",
      "metadata": {
        "id": "view-in-github",
        "colab_type": "text"
      },
      "source": [
        "<a href=\"https://colab.research.google.com/github/shaakib99/Machine-Learning/blob/gcolab/Linear_Regression_with_gradient_Descent.ipynb\" target=\"_parent\"><img src=\"https://colab.research.google.com/assets/colab-badge.svg\" alt=\"Open In Colab\"/></a>"
      ]
    },
    {
      "cell_type": "markdown",
      "metadata": {
        "id": "pdH-RjnM7-rY",
        "colab_type": "text"
      },
      "source": [
        "***Import Necessary Libraries***"
      ]
    },
    {
      "cell_type": "code",
      "metadata": {
        "id": "Y-zdkHaC7FEh",
        "colab_type": "code",
        "colab": {}
      },
      "source": [
        "import pandas as pd\n",
        "import matplotlib.pyplot as plt"
      ],
      "execution_count": null,
      "outputs": []
    },
    {
      "cell_type": "markdown",
      "metadata": {
        "id": "q0UCl06O8I3n",
        "colab_type": "text"
      },
      "source": [
        "*** *italicised text*Load Dataset***\n",
        "I will take 50% of the data as training dataset.\n",
        "Others as test Dataset."
      ]
    },
    {
      "cell_type": "code",
      "metadata": {
        "id": "89BU99Lb7kJI",
        "colab_type": "code",
        "colab": {}
      },
      "source": [
        "data = pd.read_csv('./Datasets/Student_stat.csv')\n",
        "\n",
        "data_split_percentage = 50 # %\n",
        "length_of_the_splited_data = int((len(data['SAT']) * data_split_percentage)/100)\n",
        "\n",
        "train_data = data['SAT'][:length_of_the_splited_data]\n",
        "train_label = data['GPA'][:length_of_the_splited_data]\n",
        "test_data = data['SAT'][length_of_the_splited_data:]\n",
        "test_label = data['GPA'][length_of_the_splited_data:]\n"
      ],
      "execution_count": null,
      "outputs": []
    },
    {
      "cell_type": "markdown",
      "metadata": {
        "id": "Nk4BQTmg_mVS",
        "colab_type": "text"
      },
      "source": [
        "Dataset Visualization"
      ]
    },
    {
      "cell_type": "code",
      "metadata": {
        "id": "2DeSO5Nj_q5P",
        "colab_type": "code",
        "colab": {
          "base_uri": "https://localhost:8080/",
          "height": 279
        },
        "outputId": "8989dd49-6698-410b-f73c-38e1a598f568"
      },
      "source": [
        "plt.plot(train_data,train_label)\n",
        "plt.xlabel('SAT')\n",
        "plt.ylabel('GPA')\n",
        "plt.show()"
      ],
      "execution_count": 26,
      "outputs": [
        {
          "output_type": "display_data",
          "data": {
            "image/png": "[encoded data removed]",
            "text/plain": [
              "<Figure size 432x288 with 1 Axes>"
            ]
          },
          "metadata": {
            "tags": [],
            "needs_background": "light"
          }
        }
      ]
    }
  ]
}