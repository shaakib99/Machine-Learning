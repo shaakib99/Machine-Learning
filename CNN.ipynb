{
  "nbformat": 4,
  "nbformat_minor": 0,
  "metadata": {
    "colab": {
      "name": "CNN.ipynb",
      "provenance": [],
      "collapsed_sections": [],
      "authorship_tag": "ABX9TyObh6GwzXIeqKDzaXuW35cY",
      "include_colab_link": true
    },
    "kernelspec": {
      "name": "python3",
      "display_name": "Python 3"
    }
  },
  "cells": [
    {
      "cell_type": "markdown",
      "metadata": {
        "id": "view-in-github",
        "colab_type": "text"
      },
      "source": [
        "<a href=\"https://colab.research.google.com/github/shaakib99/Machine-Learning/blob/gcolab/CNN.ipynb\" target=\"_parent\"><img src=\"https://colab.research.google.com/assets/colab-badge.svg\" alt=\"Open In Colab\"/></a>"
      ]
    },
    {
      "cell_type": "code",
      "metadata": {
        "id": "mSwZ7_-rGLPu"
      },
      "source": [
        "# Trying convolutional neural net with CIFER-10 Dataset"
      ],
      "execution_count": 1,
      "outputs": []
    },
    {
      "cell_type": "code",
      "metadata": {
        "id": "k1x-nQFJGR-F"
      },
      "source": [
        "from tensorflow import keras\n",
        "import matplotlib.pyplot as plt\n",
        "import numpy as np\n",
        "import cv2 as cv\n",
        "\n",
        "# Load Data\n",
        "# All image types are numpy array\n",
        "train, test = keras.datasets.cifar10.load_data()\n",
        "\n",
        "(train_x,train_y) = train\n",
        "(test_x,test_y) = test\n",
        "\n",
        "# ALL CONSTANTS\n",
        "TOTAL_CLASS  = len(np.unique(train_y))\n",
        "IMG_SIZE = 32"
      ],
      "execution_count": 3,
      "outputs": []
    },
    {
      "cell_type": "code",
      "metadata": {
        "id": "RZRhTVPHGeK5"
      },
      "source": [
        "# Function to encode outputs.\n",
        "# Using One hot encoding\n",
        "def one_hot_encode(index, total_class):\n",
        "\n",
        "  # Create one hot encoding array\n",
        "  ohe = [0] * total_class \n",
        "\n",
        "  # Replace index number with 1\n",
        "  ohe[index[0]] = 1\n",
        "\n",
        "  return ohe\n",
        "\n",
        "# Test one_hot_encode\n",
        "# print(one_hot_encode(1,TOTAL_CLASS))"
      ],
      "execution_count": 4,
      "outputs": []
    },
    {
      "cell_type": "code",
      "metadata": {
        "id": "cuxFfBpsNq6Q"
      },
      "source": [
        "# Turn all train label & test label to one hot encoding\n",
        "\n",
        "train_y = np.array(list(map(lambda x: one_hot_encode(x,TOTAL_CLASS), train_y)))\n",
        "test_y = np.array(list(map(lambda x: one_hot_encode(x,TOTAL_CLASS), test_y)))"
      ],
      "execution_count": 5,
      "outputs": []
    },
    {
      "cell_type": "code",
      "metadata": {
        "id": "FII3VI62U21H"
      },
      "source": [
        "# Normalize train_x and test_x value\n",
        "# Converting 32x32x3 dividing by 255\n",
        "\n",
        "train_x = train_x / 255\n",
        "test_x = test_x / 255"
      ],
      "execution_count": 20,
      "outputs": []
    },
    {
      "cell_type": "code",
      "metadata": {
        "id": "HXaMEeNZWsWD"
      },
      "source": [
        "# CREATE MODEL\n",
        "model = keras.Sequential()\n",
        "model.add(keras.layers.Conv2D(64,(2,2), input_shape = (IMG_SIZE,IMG_SIZE,3), activation='relu'))\n",
        "model.add(keras.layers.MaxPooling2D((2,2)))\n",
        "model.add(keras.layers.Conv2D(64,(2,2), activation='relu'))\n",
        "model.add(keras.layers.MaxPooling2D((2,2)))\n",
        "model.add(keras.layers.Conv2D(64,(2,2), activation='relu'))\n",
        "model.add(keras.layers.MaxPooling2D((2,2)))\n",
        "model.add(keras.layers.Conv2D(64,(2,2), activation='relu'))\n",
        "\n",
        "model.add(keras.layers.Flatten())\n",
        "model.add(keras.layers.Dense(64, activation='relu' ))\n",
        "\n",
        "model.add(keras.layers.Dense(TOTAL_CLASS,activation='softmax'))"
      ],
      "execution_count": 49,
      "outputs": []
    },
    {
      "cell_type": "code",
      "metadata": {
        "id": "96WWKWBAJXgm"
      },
      "source": [
        "# Compile Model & Summary()\n",
        "model.compile(\n",
        "    optimizer = 'adam',\n",
        "    loss = 'categorical_crossentropy',\n",
        "    metrics = ['accuracy']\n",
        ")\n",
        "\n",
        "model.summary()"
      ],
      "execution_count": null,
      "outputs": []
    },
    {
      "cell_type": "code",
      "metadata": {
        "id": "KP5ETckTOO--"
      },
      "source": [
        "model.fit(train_x,train_y, epochs= 50, validation_data=(test_x,test_y), shuffle=True)"
      ],
      "execution_count": null,
      "outputs": []
    },
    {
      "cell_type": "code",
      "metadata": {
        "id": "3Nn1fbY4sSaH"
      },
      "source": [
        "# Model Evaluation\n",
        "test_loss, test_acc = model.evaluate(test_x, test_y, verbose=2)"
      ],
      "execution_count": null,
      "outputs": []
    }
  ]
}