{
  "nbformat": 4,
  "nbformat_minor": 0,
  "metadata": {
    "colab": {
      "name": "Logistic Regression.ipynb",
      "provenance": [],
      "authorship_tag": "ABX9TyO71O+dSdiR2looNb4633uv",
      "include_colab_link": true
    },
    "kernelspec": {
      "name": "python3",
      "display_name": "Python 3"
    }
  },
  "cells": [
    {
      "cell_type": "markdown",
      "metadata": {
        "id": "view-in-github",
        "colab_type": "text"
      },
      "source": [
        "<a href=\"https://colab.research.google.com/github/shaakib99/Machine-Learning/blob/gcolab/Logistic_Regression.ipynb\" target=\"_parent\"><img src=\"https://colab.research.google.com/assets/colab-badge.svg\" alt=\"Open In Colab\"/></a>"
      ]
    },
    {
      "cell_type": "code",
      "metadata": {
        "id": "5r4WQ8vMmTJ8"
      },
      "source": [
        "# import necessary libraries\n",
        "import matplotlib.pyplot as plt\n",
        "import pandas as pd\n",
        "import math\n",
        "\n",
        "# Necessary Functions\n",
        "def sigmoid(weight, data):\n",
        "  z = weight[0] + weight[1] * data\n",
        "  return 1/(1+ math.exp(-1 * z)) # 1/(1 + e^-z)"
      ],
      "execution_count": 11,
      "outputs": []
    },
    {
      "cell_type": "code",
      "metadata": {
        "id": "BcNS_g77pChH"
      },
      "source": [
        "dataset = pd.read_csv('./Datasets/diabetes.csv')\n",
        "featur_cols = ['Pregnancies','Outcome']\n",
        "dataset = dataset[featur_cols]\n",
        "\n",
        "iteration = 1000\n",
        "weight = [0,0]\n",
        "\n",
        "for i in range(iteration):\n",
        "  j = 0\n",
        "\n",
        "  # Logistic Regression\n",
        "  for j in range(len(dataset['Outcome'])):\n",
        "    hypothesis = sigmoid(weight,dataset['Pregnancies'][j])\n",
        "    cost = -1 * (1/len(dataset['Outcome'])) * (dataset['Outcome'][j] * math.log(hypothesis) + (1- dataset['Outcome'][j]) * math.log(1-hypothesis))\n",
        "    weight[1] -=  0.01 * (1/len(dataset['Outcome'])) * (cost) * dataset['Pregnancies'][j]\n",
        "    weight[0] -= 0.01 * (1/len(dataset['Outcome'])) * (cost)\n",
        "    \n",
        "  # print(weight)\n",
        "# print(round(sigmoid(weight,dataset['Pregnancies'][0])), dataset['Outcome'][0])\n",
        "\n",
        "# Calculate R-Squared Value\n",
        "\n",
        "average_hypothesis = 0 \n",
        "for i in range(len(dataset['Outcome'])):\n",
        "  average_hypothesis +=(1/len(dataset['Outcome'])) *  (sigmoid(weight,dataset['Pregnancies'][i]))\n",
        "\n",
        "top = 0\n",
        "bottom = 0\n",
        "for i in range(len(dataset['Outcome'])):\n",
        "  top += ((sigmoid(weight,dataset['Pregnancies'][i])) - average_hypothesis)**2\n",
        "  bottom += (dataset['Outcome'][i] - average_hypothesis)**2\n"
      ],
      "execution_count": 37,
      "outputs": []
    },
    {
      "cell_type": "code",
      "metadata": {
        "id": "wTSrD2IuZFwD",
        "outputId": "7507e528-8e71-4522-ea90-21cd89083bb8",
        "colab": {
          "base_uri": "https://localhost:8080/",
          "height": 282
        }
      },
      "source": [
        "output = []\n",
        "for i in range(len(dataset['Outcome'])):\n",
        "  # print(round(sigmoid(weight,dataset['Pregnancies'][i])), dataset['Outcome'][i])\n",
        "  output.append(round(sigmoid(weight,dataset['Pregnancies'][i])))\n",
        "# print(\"R-SQUARED VALUE::::\", (top/bottom)*100)\n",
        "plt.scatter(dataset['Pregnancies'], dataset['Outcome'], color =\"red\")\n",
        "plt.scatter(dataset['Pregnancies'], output, color =\"blue\")"
      ],
      "execution_count": 47,
      "outputs": [
        {
          "output_type": "execute_result",
          "data": {
            "text/plain": [
              "<matplotlib.collections.PathCollection at 0x7f62c997fb00>"
            ]
          },
          "metadata": {
            "tags": []
          },
          "execution_count": 47
        },
        {
          "output_type": "display_data",
          "data": {
            "image/png": "[encoded data removed]",
            "text/plain": [
              "<Figure size 432x288 with 1 Axes>"
            ]
          },
          "metadata": {
            "tags": [],
            "needs_background": "light"
          }
        }
      ]
    }
  ]
}